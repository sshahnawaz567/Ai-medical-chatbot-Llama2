{
 "cells": [
  {
   "cell_type": "code",
   "execution_count": 11,
   "metadata": {},
   "outputs": [
    {
     "name": "stdout",
     "output_type": "stream",
     "text": [
      "Cosine Similarity: 0.583392322063446\n"
     ]
    }
   ],
   "source": [
    "from sentence_transformers import SentenceTransformer\n",
    "from sklearn.metrics.pairwise import cosine_similarity\n",
    "\n",
    "# Load a sentence transformer model\n",
    "model = SentenceTransformer('sentence-transformers/all-MiniLM-L6-v2')\n",
    "\n",
    "# Texts for comparison\n",
    "reference_text = \"yearly rate for occurrence of SUD in people less than 35 years of age is less than seven incidents per 100,000. Of all SUD cases, only about 8% are exercise related. On a national basis, this means that each yearapproximately 25 athletes experience SUD. In personsover age 35, the incidence of SUD is approximately 55 in100,000, with only 3% of the cases occurring during exercise.\"\n",
    "model_text = \"The prognosis for athletic heart syndrome is generally good, with most individuals experiencing few or no symptoms and minimal impact on their quality of life. According to Mosby's Clinical Nursing, the yearly rate for occurrence of sudden death (SUD) in people less than 35 years of age is less than seven incidents per 100,000. Of all SUD cases, only about 8% are exercise related. However, it's important to note that athletic heart syndrome can be difficult to distinguish from significant medical professionals \"\n",
    "model_embedding = model.encode(model_text)\n",
    "reference_embedding = model.encode(reference_text)\n",
    "\n",
    "\n",
    "# Calculate cosine similarity\n",
    "cosine_sim = cosine_similarity([model_embedding], [reference_embedding])\n",
    "print(f\"Cosine Similarity: {cosine_sim[0][0]}\")\n"
   ]
  },
  {
   "cell_type": "code",
   "execution_count": 6,
   "metadata": {},
   "outputs": [
    {
     "name": "stdout",
     "output_type": "stream",
     "text": [
      "Botulism is caused by botulinum toxin a natural poison produced by certain bacteria in the Clostridium genus Exposure to the botulinum toxin occurs mostly from eating contaminated food, or in infants from certain clostridia growing in the intestine Botulinum toxin blocks motor nerves ability to release acetylcholine the neurotransmitter that relays nerve signals to muscles and flaccid paralysis occurs As botulism progresses the muscles that control the airway and breathing fail\n"
     ]
    }
   ],
   "source": [
    "import re\n",
    "\n",
    "reference_text = \"yearly rate for occurrence of SUD in people less\n",
    "than 35 years of age is less than seven incidents per\n",
    "100,000. Of all SUD cases, only about 8% are exercise\n",
    "related. On a national basis, this means that each year\n",
    "approximately 25 athletes experience SUD. In persons\n",
    "over age 35, the incidence of SUD is approximately 55 in\n",
    "100,000, with only 3% of the cases occurring during\n",
    "exercise.\"\n",
    "\n",
    "# Clean the string by removing non-printable characters\n",
    "cleaned_text = re.sub(r'\\s+', ' ', reference_text).strip()\n",
    "print(cleaned_text)\n"
   ]
  },
  {
   "cell_type": "code",
   "execution_count": null,
   "metadata": {},
   "outputs": [],
   "source": []
  }
 ],
 "metadata": {
  "kernelspec": {
   "display_name": "chatbot",
   "language": "python",
   "name": "python3"
  },
  "language_info": {
   "codemirror_mode": {
    "name": "ipython",
    "version": 3
   },
   "file_extension": ".py",
   "mimetype": "text/x-python",
   "name": "python",
   "nbconvert_exporter": "python",
   "pygments_lexer": "ipython3",
   "version": "3.10.15"
  }
 },
 "nbformat": 4,
 "nbformat_minor": 2
}
